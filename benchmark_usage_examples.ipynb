{
 "cells": [
  {
   "cell_type": "markdown",
   "id": "c149747b",
   "metadata": {},
   "source": [
    "# Benchmark Usage"
   ]
  },
  {
   "cell_type": "markdown",
   "id": "39c19bf9",
   "metadata": {},
   "source": [
    "\n",
    "1. [Create Object **BenchmarkHandler** to access the data](#first-bullet)\n",
    "2. [List the search spaces](#second-bullet)\n",
    "3. [Get the search space values](#third-bullet)\n",
    "4. [Get environments](#fourth-bullet)\n",
    "5. [Set the environment and search space you want to query](#fifth-bullet)\n",
    "6. [Query the already-set search space, environment and seed for a given budget and configuration](#sixth-bullet)\n",
    "7. [Query a subset of metrics](#seventh-bullet)\n",
    "8. [Create a BenchmarkHandler with customized settings](#eight-bullet)\n",
    "9. [Create a BenchmarkHandler with customized settings (dynamic)](#nineth-bullet)"
   ]
  },
  {
   "cell_type": "markdown",
   "id": "01154d05",
   "metadata": {},
   "source": [
    "\n"
   ]
  },
  {
   "cell_type": "markdown",
   "id": "151cfa82",
   "metadata": {},
   "source": [
    "<a class=\"anchor\" id=\"first-bullet\"></a>\n",
    "\n",
    "### 1) Create Object **BenchmarkHandler** to access the data:"
   ]
  },
  {
   "cell_type": "code",
   "execution_count": 4,
   "id": "d95cc51d",
   "metadata": {},
   "outputs": [],
   "source": [
    "from benchmark_handler import BenchmarkHandler"
   ]
  },
  {
   "cell_type": "code",
   "execution_count": 5,
   "id": "ee503ef0",
   "metadata": {},
   "outputs": [],
   "source": [
    "\n",
    "benchmark = BenchmarkHandler()"
   ]
  },
  {
   "cell_type": "markdown",
   "id": "e7375314",
   "metadata": {},
   "source": [
    "<a class=\"anchor\" id=\"second-bullet\"></a>\n",
    "\n",
    "### 2) List the search spaces:"
   ]
  },
  {
   "cell_type": "code",
   "execution_count": 6,
   "id": "a7b6df70",
   "metadata": {},
   "outputs": [
    {
     "data": {
      "text/plain": [
       "['PPO', 'DQN', 'A2C', 'DDPG', 'SAC', 'TD3']"
      ]
     },
     "execution_count": 6,
     "metadata": {},
     "output_type": "execute_result"
    }
   ],
   "source": [
    "benchmark.get_search_spaces_names(set=\"static\")"
   ]
  },
  {
   "cell_type": "code",
   "execution_count": 7,
   "id": "033a2ff4",
   "metadata": {},
   "outputs": [
    {
     "data": {
      "text/plain": [
       "['PPO']"
      ]
     },
     "execution_count": 7,
     "metadata": {},
     "output_type": "execute_result"
    }
   ],
   "source": [
    "benchmark.get_search_spaces_names(set=\"dynamic\")"
   ]
  },
  {
   "cell_type": "markdown",
   "id": "09cc2cdd",
   "metadata": {},
   "source": [
    "<a class=\"anchor\" id=\"third-bullet\"></a>\n",
    "\n",
    "### 3) Get the search space values:"
   ]
  },
  {
   "cell_type": "code",
   "execution_count": 8,
   "id": "2c4e1111",
   "metadata": {},
   "outputs": [
    {
     "data": {
      "text/plain": [
       "{'lr': [-6, -5, -4, -3, -2, -1],\n",
       " 'gamma': [0.8, 0.9, 0.95, 0.98, 0.99, 1.0],\n",
       " 'clip': [0.2, 0.3, 0.4]}"
      ]
     },
     "execution_count": 8,
     "metadata": {},
     "output_type": "execute_result"
    }
   ],
   "source": [
    "benchmark.get_search_space(\"PPO\")"
   ]
  },
  {
   "cell_type": "markdown",
   "id": "996e60c4",
   "metadata": {},
   "source": [
    "<a class=\"anchor\" id=\"fourth-bullet\"></a>\n",
    "\n",
    "### 4) Get environments:\n",
    "\n",
    "The environments are contained in three groups. You can list the groups: "
   ]
  },
  {
   "cell_type": "code",
   "execution_count": 9,
   "id": "1a0fea92",
   "metadata": {},
   "outputs": [
    {
     "data": {
      "text/plain": [
       "['Atari', 'Mujoco', 'Control']"
      ]
     },
     "execution_count": 9,
     "metadata": {},
     "output_type": "execute_result"
    }
   ],
   "source": [
    "benchmark.get_environments_groups()"
   ]
  },
  {
   "cell_type": "markdown",
   "id": "0e410b68",
   "metadata": {},
   "source": [
    "You can list the environments of a specific group"
   ]
  },
  {
   "cell_type": "code",
   "execution_count": 10,
   "id": "1d839e16",
   "metadata": {},
   "outputs": [
    {
     "data": {
      "text/plain": [
       "['Pong-v0',\n",
       " 'Alien-v0',\n",
       " 'BankHeist-v0',\n",
       " 'BeamRider-v0',\n",
       " 'Breakout-v0',\n",
       " 'Enduro-v0',\n",
       " 'Phoenix-v0',\n",
       " 'Seaquest-v0',\n",
       " 'SpaceInvaders-v0',\n",
       " 'Riverraid-v0',\n",
       " 'Tennis-v0',\n",
       " 'Skiing-v0',\n",
       " 'Boxing-v0',\n",
       " 'Bowling-v0',\n",
       " 'Asteroids-v0']"
      ]
     },
     "execution_count": 10,
     "metadata": {},
     "output_type": "execute_result"
    }
   ],
   "source": [
    "benchmark.get_environments_per_group(\"Atari\")"
   ]
  },
  {
   "cell_type": "markdown",
   "id": "cb5b3817",
   "metadata": {},
   "source": [
    "You can list all the environments:"
   ]
  },
  {
   "cell_type": "code",
   "execution_count": 11,
   "id": "4f6a9d0e",
   "metadata": {},
   "outputs": [
    {
     "data": {
      "text/plain": [
       "['Pong-v0',\n",
       " 'Ant-v2',\n",
       " 'Alien-v0',\n",
       " 'BankHeist-v0',\n",
       " 'BeamRider-v0',\n",
       " 'Breakout-v0',\n",
       " 'Enduro-v0',\n",
       " 'Phoenix-v0',\n",
       " 'Seaquest-v0',\n",
       " 'SpaceInvaders-v0',\n",
       " 'Riverraid-v0',\n",
       " 'Tennis-v0',\n",
       " 'Skiing-v0',\n",
       " 'Boxing-v0',\n",
       " 'Bowling-v0',\n",
       " 'Asteroids-v0',\n",
       " 'Hopper-v2',\n",
       " 'Humanoid-v2',\n",
       " 'CartPole-v1',\n",
       " 'MountainCar-v0',\n",
       " 'Acrobot-v1',\n",
       " 'Pendulum-v0']"
      ]
     },
     "execution_count": 11,
     "metadata": {},
     "output_type": "execute_result"
    }
   ],
   "source": [
    "benchmark.get_environments()"
   ]
  },
  {
   "cell_type": "markdown",
   "id": "ec545a3f",
   "metadata": {},
   "source": [
    "<a class=\"anchor\" id=\"fifth-bullet\"></a>\n",
    "\n",
    "### 5) Set the environment, search space and seed you want to query:"
   ]
  },
  {
   "cell_type": "code",
   "execution_count": 12,
   "id": "df10c9f7",
   "metadata": {},
   "outputs": [],
   "source": [
    "benchmark.set_env_space_seed(search_space=\"PPO\", environment=\"Pong-v0\", seed=0)"
   ]
  },
  {
   "cell_type": "markdown",
   "id": "1f9c8bb7",
   "metadata": {},
   "source": [
    "<a class=\"anchor\" id=\"sixth-bullet\"></a>\n",
    "\n",
    "###  6) Query the already-set search space and environement for a given budget and configuration:"
   ]
  },
  {
   "cell_type": "code",
   "execution_count": 13,
   "id": "f4aebfaa",
   "metadata": {},
   "outputs": [],
   "source": [
    "configuration = {\"lr\":-6, \"gamma\": 0.8, \"clip\": 0.2}\n",
    "budget = 50\n",
    "queried_data = benchmark.get_metrics(configuration, budget=budget)"
   ]
  },
  {
   "cell_type": "code",
   "execution_count": 14,
   "id": "1e2ad5af",
   "metadata": {},
   "outputs": [
    {
     "data": {
      "text/plain": [
       "dict_keys(['eval_avg_returns', 'eval_std_returns', 'eval_timestamps', 'eval_timesteps'])"
      ]
     },
     "execution_count": 14,
     "metadata": {},
     "output_type": "execute_result"
    }
   ],
   "source": [
    "queried_data.keys()"
   ]
  },
  {
   "cell_type": "markdown",
   "id": "1b73f586",
   "metadata": {},
   "source": [
    "<a class=\"anchor\" id=\"seventh-bullet\"></a>\n",
    "\n",
    "### 7) Query a subset of metrics\n",
    "\n",
    "As you can see, the default functionality returns all the metrics. You can change the value of the attritbute \"return_names\" of a benchmark object and define the specific metrics you want."
   ]
  },
  {
   "cell_type": "code",
   "execution_count": 15,
   "id": "2423954d",
   "metadata": {},
   "outputs": [
    {
     "data": {
      "text/plain": [
       "dict_keys(['eval_avg_returns', 'eval_timesteps'])"
      ]
     },
     "execution_count": 15,
     "metadata": {},
     "output_type": "execute_result"
    }
   ],
   "source": [
    "benchmark.return_metrics = [\"eval_avg_returns\", \"eval_timesteps\"]\n",
    "configuration = {\"lr\":-4, \"gamma\": 0.98, \"clip\": 0.2}\n",
    "budget = 50\n",
    "queried_data = benchmark.get_metrics(configuration, budget=budget)\n",
    "queried_data.keys()"
   ]
  },
  {
   "cell_type": "markdown",
   "id": "701e5017",
   "metadata": {},
   "source": [
    "<a class=\"anchor\" id=\"eight-bullet\"></a>\n",
    "\n",
    "### 8) Create a BenchmarkHandler with customized settings (static)\n",
    "\n",
    "It is possible to define the environment, space and return metrics when creating the benchmark object:"
   ]
  },
  {
   "cell_type": "code",
   "execution_count": 16,
   "id": "bfc4e2a5",
   "metadata": {
    "scrolled": true
   },
   "outputs": [],
   "source": [
    "import matplotlib.pyplot as plt\n",
    "\n",
    "benchmark = BenchmarkHandler(environment = \"Pong-v0\",\n",
    "                             search_space = \"PPO\",\n",
    "                             return_metrics = [\"eval_avg_returns\", \"eval_timesteps\"],\n",
    "                             seed = 0)\n",
    "queried_data = benchmark.get_metrics(configuration, budget=budget)\n"
   ]
  },
  {
   "cell_type": "code",
   "execution_count": 17,
   "id": "17582764",
   "metadata": {},
   "outputs": [
    {
     "data": {
      "text/plain": [
       "[<matplotlib.lines.Line2D at 0x1d8c782b1c0>]"
      ]
     },
     "execution_count": 17,
     "metadata": {},
     "output_type": "execute_result"
    },
    {
     "data": {
      "image/png": "[encoded data removed]",
      "text/plain": [
       "<Figure size 640x480 with 1 Axes>"
      ]
     },
     "metadata": {},
     "output_type": "display_data"
    }
   ],
   "source": [
    "plt.plot(queried_data[\"eval_avg_returns\"])"
   ]
  },
  {
   "cell_type": "markdown",
   "id": "967c6557",
   "metadata": {},
   "source": [
    "<a class=\"anchor\" id=\"nineth-bullet\"></a>\n",
    "\n",
    "### 9) Create a BenchmarkHandler with customized settings (dynamic)\n",
    "\n"
   ]
  },
  {
   "cell_type": "code",
   "execution_count": 18,
   "id": "bc9935c6",
   "metadata": {},
   "outputs": [],
   "source": [
    "benchmark.set_env_space_seed(search_space=\"PPO\", environment=\"Enduro-v0\", seed= 0)\n",
    "# Note: For the dynamic subset, you need to provide a list of max 3 values per hyperparameter.\n",
    "# Each of the 3 values signifies the value change at the switch.\n",
    "# If less than 3 values provided, the last value in the list is not changed until the end of the run.\n",
    "configuration = {\"lr\":[-5, -4], \"gamma\": [0.99,0.95, 0.99]}\n",
    "queried_data = benchmark.get_metrics(configuration, budget=budget, set=\"dynamic\")\n"
   ]
  },
  {
   "cell_type": "code",
   "execution_count": 19,
   "id": "34dbb0c8",
   "metadata": {},
   "outputs": [
    {
     "data": {
      "text/plain": [
       "[<matplotlib.lines.Line2D at 0x1d8c987bfd0>]"
      ]
     },
     "execution_count": 19,
     "metadata": {},
     "output_type": "execute_result"
    },
    {
     "data": {
      "image/png": "[encoded data removed]",
      "text/plain": [
       "<Figure size 640x480 with 1 Axes>"
      ]
     },
     "metadata": {},
     "output_type": "display_data"
    }
   ],
   "source": [
    "plt.plot(queried_data[\"eval_avg_returns\"])"
   ]
  }
 ],
 "metadata": {
  "kernelspec": {
   "display_name": "Python 3 (ipykernel)",
   "language": "python",
   "name": "python3"
  },
  "language_info": {
   "codemirror_mode": {
    "name": "ipython",
    "version": 3
   },
   "file_extension": ".py",
   "mimetype": "text/x-python",
   "name": "python",
   "nbconvert_exporter": "python",
   "pygments_lexer": "ipython3",
   "version": "3.9.19"
  }
 },
 "nbformat": 4,
 "nbformat_minor": 5
}
